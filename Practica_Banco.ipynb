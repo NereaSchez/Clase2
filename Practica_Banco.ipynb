{
  "cells": [
    {
      "cell_type": "markdown",
      "metadata": {
        "id": "view-in-github",
        "colab_type": "text"
      },
      "source": [
        "<a href=\"https://colab.research.google.com/github/NereaSchez/Clase2/blob/main/Practica_Banco.ipynb\" target=\"_parent\"><img src=\"https://colab.research.google.com/assets/colab-badge.svg\" alt=\"Open In Colab\"/></a>"
      ]
    },
    {
      "cell_type": "markdown",
      "metadata": {
        "id": "ck4eqgjF7NWL"
      },
      "source": [
        "# Nueva sección"
      ]
    },
    {
      "cell_type": "markdown",
      "metadata": {
        "id": "idrpmKt97pMr"
      },
      "source": [
        "**Descargar BBDD**"
      ]
    },
    {
      "cell_type": "code",
      "execution_count": null,
      "metadata": {
        "colab": {
          "base_uri": "https://localhost:8080/"
        },
        "id": "d5eA5URi5-f8",
        "outputId": "9512ca70-a022-4565-f07e-febb9df11045"
      },
      "outputs": [
        {
          "name": "stdout",
          "output_type": "stream",
          "text": [
            "Downloading...\n",
            "From: https://drive.google.com/uc?id=1puf9UBuzaVqMW3ZMMXhd626E5yVJd_QX\n",
            "To: /content/data_berka.db\n",
            "100% 70.2M/70.2M [00:00<00:00, 173MB/s]\n"
          ]
        }
      ],
      "source": [
        "!gdown 1puf9UBuzaVqMW3ZMMXhd626E5yVJd_QX"
      ]
    },
    {
      "cell_type": "markdown",
      "metadata": {
        "id": "jt3Ujc3j8OBK"
      },
      "source": [
        "1.1) Cargamos la extensión sql (nos permite ejecutar comandos sql directamente en colab"
      ]
    },
    {
      "cell_type": "code",
      "execution_count": null,
      "metadata": {
        "colab": {
          "base_uri": "https://localhost:8080/"
        },
        "id": "HrBOBbSu80CT",
        "outputId": "c01eef1f-9952-4939-ac56-b8b737733d61"
      },
      "outputs": [
        {
          "name": "stdout",
          "output_type": "stream",
          "text": [
            "The sql extension is already loaded. To reload it, use:\n",
            "  %reload_ext sql\n"
          ]
        }
      ],
      "source": [
        "%config SqlMagic.style = '_DEPRECATED_DEFAULT'\n",
        "%load_ext sql"
      ]
    },
    {
      "cell_type": "code",
      "execution_count": null,
      "metadata": {
        "id": "6XC7qcj-8dbj"
      },
      "outputs": [],
      "source": [
        "%sql sqlite:///data_berka.db"
      ]
    },
    {
      "cell_type": "markdown",
      "metadata": {
        "id": "b9NE7GC-8m8T"
      },
      "source": [
        "1.2) Conectar a la base de datos"
      ]
    },
    {
      "cell_type": "markdown",
      "metadata": {
        "id": "vzCTsCwY-NR8"
      },
      "source": [
        "1.3) Comprobamos el esquema de la BBDD para ejecutar comandos sql, se debe añadir: \"%sql"
      ]
    },
    {
      "cell_type": "code",
      "execution_count": null,
      "metadata": {
        "colab": {
          "base_uri": "https://localhost:8080/"
        },
        "id": "ibr6Cs0W9E1z",
        "outputId": "0dba6346-c20c-470d-f7e9-b3738c823539"
      },
      "outputs": [
        {
          "name": "stdout",
          "output_type": "stream",
          "text": [
            "   sqlite:///data-berka.db\n",
            " * sqlite:///data_berka.db\n",
            "Done.\n"
          ]
        },
        {
          "data": {
            "text/html": [
              "<table>\n",
              "    <thead>\n",
              "        <tr>\n",
              "            <th>name</th>\n",
              "            <th>type</th>\n",
              "        </tr>\n",
              "    </thead>\n",
              "    <tbody>\n",
              "        <tr>\n",
              "            <td>DISTRICT</td>\n",
              "            <td>table</td>\n",
              "        </tr>\n",
              "        <tr>\n",
              "            <td>ACCOUNT</td>\n",
              "            <td>table</td>\n",
              "        </tr>\n",
              "        <tr>\n",
              "            <td>TRANS</td>\n",
              "            <td>table</td>\n",
              "        </tr>\n",
              "        <tr>\n",
              "            <td>CLIENT</td>\n",
              "            <td>table</td>\n",
              "        </tr>\n",
              "        <tr>\n",
              "            <td>DISPOSITION</td>\n",
              "            <td>table</td>\n",
              "        </tr>\n",
              "        <tr>\n",
              "            <td>CREDIT_CARD</td>\n",
              "            <td>table</td>\n",
              "        </tr>\n",
              "        <tr>\n",
              "            <td>LOAN</td>\n",
              "            <td>table</td>\n",
              "        </tr>\n",
              "        <tr>\n",
              "            <td>PERMANENT_ORDER</td>\n",
              "            <td>table</td>\n",
              "        </tr>\n",
              "    </tbody>\n",
              "</table>"
            ],
            "text/plain": [
              "[('DISTRICT', 'table'),\n",
              " ('ACCOUNT', 'table'),\n",
              " ('TRANS', 'table'),\n",
              " ('CLIENT', 'table'),\n",
              " ('DISPOSITION', 'table'),\n",
              " ('CREDIT_CARD', 'table'),\n",
              " ('LOAN', 'table'),\n",
              " ('PERMANENT_ORDER', 'table')]"
            ]
          },
          "execution_count": 61,
          "metadata": {},
          "output_type": "execute_result"
        }
      ],
      "source": [
        "%%sql\n",
        "SELECT name, type\n",
        "FROM sqlite_master\n",
        "WHERE type = 'table'"
      ]
    },
    {
      "cell_type": "markdown",
      "metadata": {
        "id": "qGKwIKrcAt-i"
      },
      "source": [
        "# 2) Ejercicios"
      ]
    },
    {
      "cell_type": "markdown",
      "metadata": {
        "id": "qeMGMVcbA1W6"
      },
      "source": [
        "2.1) Muestre los datos de la tabla cliente"
      ]
    },
    {
      "cell_type": "code",
      "execution_count": null,
      "metadata": {
        "colab": {
          "base_uri": "https://localhost:8080/"
        },
        "id": "C01K6L3_A9Oc",
        "outputId": "ef7132d6-d548-40a2-8c94-0d68ca3c8471"
      },
      "outputs": [
        {
          "name": "stdout",
          "output_type": "stream",
          "text": [
            "   sqlite:///data-berka.db\n",
            " * sqlite:///data_berka.db\n",
            "Done.\n"
          ]
        },
        {
          "data": {
            "text/html": [
              "<table>\n",
              "    <thead>\n",
              "        <tr>\n",
              "            <th>client_id</th>\n",
              "            <th>birth_number</th>\n",
              "            <th>district_id</th>\n",
              "        </tr>\n",
              "    </thead>\n",
              "    <tbody>\n",
              "        <tr>\n",
              "            <td>1</td>\n",
              "            <td>706213</td>\n",
              "            <td>18</td>\n",
              "        </tr>\n",
              "        <tr>\n",
              "            <td>2</td>\n",
              "            <td>450204</td>\n",
              "            <td>1</td>\n",
              "        </tr>\n",
              "        <tr>\n",
              "            <td>3</td>\n",
              "            <td>406009</td>\n",
              "            <td>1</td>\n",
              "        </tr>\n",
              "        <tr>\n",
              "            <td>4</td>\n",
              "            <td>561201</td>\n",
              "            <td>5</td>\n",
              "        </tr>\n",
              "        <tr>\n",
              "            <td>5</td>\n",
              "            <td>605703</td>\n",
              "            <td>5</td>\n",
              "        </tr>\n",
              "    </tbody>\n",
              "</table>"
            ],
            "text/plain": [
              "[(1, '706213', 18),\n",
              " (2, '450204', 1),\n",
              " (3, '406009', 1),\n",
              " (4, '561201', 5),\n",
              " (5, '605703', 5)]"
            ]
          },
          "execution_count": 62,
          "metadata": {},
          "output_type": "execute_result"
        }
      ],
      "source": [
        "%sql SELECT * FROM CLIENT LIMIT 5\n"
      ]
    },
    {
      "cell_type": "code",
      "execution_count": null,
      "metadata": {
        "id": "w4ZvEkCQZb6e"
      },
      "outputs": [],
      "source": []
    },
    {
      "cell_type": "markdown",
      "metadata": {
        "id": "P4j6VxQlBNFy"
      },
      "source": [
        "2.2) Liste todos los clientes con cuentas activas y préstamos, incluyendo dinero prestado y saldos de cuenta"
      ]
    },
    {
      "cell_type": "code",
      "execution_count": null,
      "metadata": {
        "colab": {
          "base_uri": "https://localhost:8080/"
        },
        "id": "2BQGsBs3BbIy",
        "outputId": "8bd634e4-ef1b-4466-a564-db17bf2edbc7"
      },
      "outputs": [
        {
          "name": "stdout",
          "output_type": "stream",
          "text": [
            "   sqlite:///data-berka.db\n",
            " * sqlite:///data_berka.db\n",
            "Done.\n"
          ]
        },
        {
          "data": {
            "text/html": [
              "<table>\n",
              "    <thead>\n",
              "        <tr>\n",
              "            <th>account_id</th>\n",
              "            <th>district_id</th>\n",
              "            <th>frequency</th>\n",
              "            <th>date</th>\n",
              "        </tr>\n",
              "    </thead>\n",
              "    <tbody>\n",
              "        <tr>\n",
              "            <td>576</td>\n",
              "            <td>55</td>\n",
              "            <td>monthly</td>\n",
              "            <td>930101</td>\n",
              "        </tr>\n",
              "        <tr>\n",
              "            <td>3818</td>\n",
              "            <td>74</td>\n",
              "            <td>monthly</td>\n",
              "            <td>930101</td>\n",
              "        </tr>\n",
              "        <tr>\n",
              "            <td>704</td>\n",
              "            <td>55</td>\n",
              "            <td>monthly</td>\n",
              "            <td>930101</td>\n",
              "        </tr>\n",
              "        <tr>\n",
              "            <td>2378</td>\n",
              "            <td>16</td>\n",
              "            <td>monthly</td>\n",
              "            <td>930101</td>\n",
              "        </tr>\n",
              "        <tr>\n",
              "            <td>2632</td>\n",
              "            <td>24</td>\n",
              "            <td>monthly</td>\n",
              "            <td>930102</td>\n",
              "        </tr>\n",
              "    </tbody>\n",
              "</table>"
            ],
            "text/plain": [
              "[(576, 55, 'monthly', 930101),\n",
              " (3818, 74, 'monthly', 930101),\n",
              " (704, 55, 'monthly', 930101),\n",
              " (2378, 16, 'monthly', 930101),\n",
              " (2632, 24, 'monthly', 930102)]"
            ]
          },
          "execution_count": 63,
          "metadata": {},
          "output_type": "execute_result"
        }
      ],
      "source": [
        "%sql SELECT * FROM ACCOUNT LIMIT 5"
      ]
    },
    {
      "cell_type": "code",
      "execution_count": null,
      "metadata": {
        "colab": {
          "base_uri": "https://localhost:8080/"
        },
        "id": "mxErXXyzC8-S",
        "outputId": "4ecbdb47-33ee-4572-a5c9-c6ccbcd8e8d9"
      },
      "outputs": [
        {
          "name": "stdout",
          "output_type": "stream",
          "text": [
            "   sqlite:///data-berka.db\n",
            " * sqlite:///data_berka.db\n",
            "Done.\n"
          ]
        },
        {
          "data": {
            "text/html": [
              "<table>\n",
              "    <thead>\n",
              "        <tr>\n",
              "            <th>loan_id</th>\n",
              "            <th>account_id</th>\n",
              "            <th>date</th>\n",
              "            <th>amount</th>\n",
              "            <th>duration</th>\n",
              "            <th>payments</th>\n",
              "            <th>status</th>\n",
              "        </tr>\n",
              "    </thead>\n",
              "    <tbody>\n",
              "        <tr>\n",
              "            <td>5314</td>\n",
              "            <td>1787</td>\n",
              "            <td>930705</td>\n",
              "            <td>96396</td>\n",
              "            <td>12</td>\n",
              "            <td>8033</td>\n",
              "            <td>B</td>\n",
              "        </tr>\n",
              "        <tr>\n",
              "            <td>5316</td>\n",
              "            <td>1801</td>\n",
              "            <td>930711</td>\n",
              "            <td>165960</td>\n",
              "            <td>36</td>\n",
              "            <td>4610</td>\n",
              "            <td>A</td>\n",
              "        </tr>\n",
              "        <tr>\n",
              "            <td>6863</td>\n",
              "            <td>9188</td>\n",
              "            <td>930728</td>\n",
              "            <td>127080</td>\n",
              "            <td>60</td>\n",
              "            <td>2118</td>\n",
              "            <td>A</td>\n",
              "        </tr>\n",
              "        <tr>\n",
              "            <td>5325</td>\n",
              "            <td>1843</td>\n",
              "            <td>930803</td>\n",
              "            <td>105804</td>\n",
              "            <td>36</td>\n",
              "            <td>2939</td>\n",
              "            <td>A</td>\n",
              "        </tr>\n",
              "        <tr>\n",
              "            <td>7240</td>\n",
              "            <td>11013</td>\n",
              "            <td>930906</td>\n",
              "            <td>274740</td>\n",
              "            <td>60</td>\n",
              "            <td>4579</td>\n",
              "            <td>A</td>\n",
              "        </tr>\n",
              "    </tbody>\n",
              "</table>"
            ],
            "text/plain": [
              "[(5314, 1787, 930705, 96396, 12, 8033, 'B'),\n",
              " (5316, 1801, 930711, 165960, 36, 4610, 'A'),\n",
              " (6863, 9188, 930728, 127080, 60, 2118, 'A'),\n",
              " (5325, 1843, 930803, 105804, 36, 2939, 'A'),\n",
              " (7240, 11013, 930906, 274740, 60, 4579, 'A')]"
            ]
          },
          "execution_count": 64,
          "metadata": {},
          "output_type": "execute_result"
        }
      ],
      "source": [
        "%sql SELECT * FROM LOAN LIMIT 5"
      ]
    },
    {
      "cell_type": "code",
      "execution_count": null,
      "metadata": {
        "colab": {
          "base_uri": "https://localhost:8080/"
        },
        "id": "ovcU0ne38fbz",
        "outputId": "d2f846f7-cdf3-409a-f485-04c88f71e728"
      },
      "outputs": [
        {
          "name": "stdout",
          "output_type": "stream",
          "text": [
            "   sqlite:///data-berka.db\n",
            " * sqlite:///data_berka.db\n",
            "Done.\n"
          ]
        },
        {
          "data": {
            "text/html": [
              "<table>\n",
              "    <thead>\n",
              "        <tr>\n",
              "            <th>disp_id</th>\n",
              "            <th>client_id</th>\n",
              "            <th>account_id</th>\n",
              "            <th>type</th>\n",
              "        </tr>\n",
              "    </thead>\n",
              "    <tbody>\n",
              "        <tr>\n",
              "            <td>1</td>\n",
              "            <td>1</td>\n",
              "            <td>1</td>\n",
              "            <td>OWNER</td>\n",
              "        </tr>\n",
              "        <tr>\n",
              "            <td>2</td>\n",
              "            <td>2</td>\n",
              "            <td>2</td>\n",
              "            <td>OWNER</td>\n",
              "        </tr>\n",
              "        <tr>\n",
              "            <td>3</td>\n",
              "            <td>3</td>\n",
              "            <td>2</td>\n",
              "            <td>DISPONENT</td>\n",
              "        </tr>\n",
              "        <tr>\n",
              "            <td>4</td>\n",
              "            <td>4</td>\n",
              "            <td>3</td>\n",
              "            <td>OWNER</td>\n",
              "        </tr>\n",
              "        <tr>\n",
              "            <td>5</td>\n",
              "            <td>5</td>\n",
              "            <td>3</td>\n",
              "            <td>DISPONENT</td>\n",
              "        </tr>\n",
              "        <tr>\n",
              "            <td>6</td>\n",
              "            <td>6</td>\n",
              "            <td>4</td>\n",
              "            <td>OWNER</td>\n",
              "        </tr>\n",
              "        <tr>\n",
              "            <td>7</td>\n",
              "            <td>7</td>\n",
              "            <td>5</td>\n",
              "            <td>OWNER</td>\n",
              "        </tr>\n",
              "        <tr>\n",
              "            <td>8</td>\n",
              "            <td>8</td>\n",
              "            <td>6</td>\n",
              "            <td>OWNER</td>\n",
              "        </tr>\n",
              "        <tr>\n",
              "            <td>9</td>\n",
              "            <td>9</td>\n",
              "            <td>7</td>\n",
              "            <td>OWNER</td>\n",
              "        </tr>\n",
              "        <tr>\n",
              "            <td>10</td>\n",
              "            <td>10</td>\n",
              "            <td>8</td>\n",
              "            <td>OWNER</td>\n",
              "        </tr>\n",
              "        <tr>\n",
              "            <td>11</td>\n",
              "            <td>11</td>\n",
              "            <td>8</td>\n",
              "            <td>DISPONENT</td>\n",
              "        </tr>\n",
              "        <tr>\n",
              "            <td>12</td>\n",
              "            <td>12</td>\n",
              "            <td>9</td>\n",
              "            <td>OWNER</td>\n",
              "        </tr>\n",
              "        <tr>\n",
              "            <td>13</td>\n",
              "            <td>13</td>\n",
              "            <td>10</td>\n",
              "            <td>OWNER</td>\n",
              "        </tr>\n",
              "        <tr>\n",
              "            <td>14</td>\n",
              "            <td>14</td>\n",
              "            <td>11</td>\n",
              "            <td>OWNER</td>\n",
              "        </tr>\n",
              "        <tr>\n",
              "            <td>15</td>\n",
              "            <td>15</td>\n",
              "            <td>12</td>\n",
              "            <td>OWNER</td>\n",
              "        </tr>\n",
              "    </tbody>\n",
              "</table>"
            ],
            "text/plain": [
              "[(1, 1, 1, 'OWNER'),\n",
              " (2, 2, 2, 'OWNER'),\n",
              " (3, 3, 2, 'DISPONENT'),\n",
              " (4, 4, 3, 'OWNER'),\n",
              " (5, 5, 3, 'DISPONENT'),\n",
              " (6, 6, 4, 'OWNER'),\n",
              " (7, 7, 5, 'OWNER'),\n",
              " (8, 8, 6, 'OWNER'),\n",
              " (9, 9, 7, 'OWNER'),\n",
              " (10, 10, 8, 'OWNER'),\n",
              " (11, 11, 8, 'DISPONENT'),\n",
              " (12, 12, 9, 'OWNER'),\n",
              " (13, 13, 10, 'OWNER'),\n",
              " (14, 14, 11, 'OWNER'),\n",
              " (15, 15, 12, 'OWNER')]"
            ]
          },
          "execution_count": 65,
          "metadata": {},
          "output_type": "execute_result"
        }
      ],
      "source": [
        "%sql SELECT * FROM disposition LIMIT 15"
      ]
    },
    {
      "cell_type": "code",
      "execution_count": null,
      "metadata": {
        "colab": {
          "base_uri": "https://localhost:8080/"
        },
        "id": "syArdWQ4DVRa",
        "outputId": "ea8fc3c7-9acf-4aa3-badf-2af8b3bb048a"
      },
      "outputs": [
        {
          "name": "stdout",
          "output_type": "stream",
          "text": [
            "   sqlite:///data-berka.db\n",
            " * sqlite:///data_berka.db\n",
            "Done.\n"
          ]
        },
        {
          "data": {
            "text/html": [
              "<table>\n",
              "    <thead>\n",
              "        <tr>\n",
              "            <th>Cliente</th>\n",
              "            <th>Importe_Prestado</th>\n",
              "            <th>Balance_Cuenta</th>\n",
              "        </tr>\n",
              "    </thead>\n",
              "    <tbody>\n",
              "        <tr>\n",
              "            <td>1</td>\n",
              "            <td>None</td>\n",
              "            <td>13466.5</td>\n",
              "        </tr>\n",
              "        <tr>\n",
              "            <td>2</td>\n",
              "            <td>38695056.0</td>\n",
              "            <td>260069.7</td>\n",
              "        </tr>\n",
              "        <tr>\n",
              "            <td>4</td>\n",
              "            <td>None</td>\n",
              "            <td>51096.2</td>\n",
              "        </tr>\n",
              "        <tr>\n",
              "            <td>6</td>\n",
              "            <td>None</td>\n",
              "            <td>33720.6</td>\n",
              "        </tr>\n",
              "        <tr>\n",
              "            <td>7</td>\n",
              "            <td>None</td>\n",
              "            <td>28088.6</td>\n",
              "        </tr>\n",
              "        <tr>\n",
              "            <td>8</td>\n",
              "            <td>None</td>\n",
              "            <td>47667.9</td>\n",
              "        </tr>\n",
              "        <tr>\n",
              "            <td>9</td>\n",
              "            <td>None</td>\n",
              "            <td>68495.9</td>\n",
              "        </tr>\n",
              "        <tr>\n",
              "            <td>10</td>\n",
              "            <td>None</td>\n",
              "            <td>72617.3</td>\n",
              "        </tr>\n",
              "        <tr>\n",
              "            <td>12</td>\n",
              "            <td>None</td>\n",
              "            <td>23877.7</td>\n",
              "        </tr>\n",
              "        <tr>\n",
              "            <td>13</td>\n",
              "            <td>None</td>\n",
              "            <td>59295.5</td>\n",
              "        </tr>\n",
              "        <tr>\n",
              "            <td>14</td>\n",
              "            <td>None</td>\n",
              "            <td>23187.3</td>\n",
              "        </tr>\n",
              "        <tr>\n",
              "            <td>15</td>\n",
              "            <td>None</td>\n",
              "            <td>26113.3</td>\n",
              "        </tr>\n",
              "        <tr>\n",
              "            <td>17</td>\n",
              "            <td>None</td>\n",
              "            <td>13224.8</td>\n",
              "        </tr>\n",
              "        <tr>\n",
              "            <td>19</td>\n",
              "            <td>None</td>\n",
              "            <td>39314.0</td>\n",
              "        </tr>\n",
              "        <tr>\n",
              "            <td>20</td>\n",
              "            <td>None</td>\n",
              "            <td>47423.3</td>\n",
              "        </tr>\n",
              "        <tr>\n",
              "            <td>21</td>\n",
              "            <td>None</td>\n",
              "            <td>33031.9</td>\n",
              "        </tr>\n",
              "        <tr>\n",
              "            <td>22</td>\n",
              "            <td>None</td>\n",
              "            <td>118385.0</td>\n",
              "        </tr>\n",
              "        <tr>\n",
              "            <td>24</td>\n",
              "            <td>None</td>\n",
              "            <td>538178.3</td>\n",
              "        </tr>\n",
              "        <tr>\n",
              "            <td>25</td>\n",
              "            <td>9173628.0</td>\n",
              "            <td>43067.3</td>\n",
              "        </tr>\n",
              "        <tr>\n",
              "            <td>26</td>\n",
              "            <td>None</td>\n",
              "            <td>17692.5</td>\n",
              "        </tr>\n",
              "    </tbody>\n",
              "</table>"
            ],
            "text/plain": [
              "[(1, None, 13466.5),\n",
              " (2, 38695056.0, 260069.7),\n",
              " (4, None, 51096.2),\n",
              " (6, None, 33720.6),\n",
              " (7, None, 28088.6),\n",
              " (8, None, 47667.9),\n",
              " (9, None, 68495.9),\n",
              " (10, None, 72617.3),\n",
              " (12, None, 23877.7),\n",
              " (13, None, 59295.5),\n",
              " (14, None, 23187.3),\n",
              " (15, None, 26113.3),\n",
              " (17, None, 13224.8),\n",
              " (19, None, 39314.0),\n",
              " (20, None, 47423.3),\n",
              " (21, None, 33031.9),\n",
              " (22, None, 118385.0),\n",
              " (24, None, 538178.3),\n",
              " (25, 9173628.0, 43067.3),\n",
              " (26, None, 17692.5)]"
            ]
          },
          "execution_count": 66,
          "metadata": {},
          "output_type": "execute_result"
        }
      ],
      "source": [
        "%%sql SELECT\n",
        "      c.client_id AS Cliente,\n",
        "      ROUND(SUM(l.amount), 2) AS Importe_Prestado,\n",
        "      ROUND(SUM(CASE\n",
        "        WHEN t.type = 'PRIJEM' THEN t.amount\n",
        "        WHEN t.type = 'VYDAJ' THEN -t.amount\n",
        "        ELSE 0\n",
        "        END), 2) AS Balance_Cuenta\n",
        "FROM CLIENT c\n",
        "LEFT JOIN DISPOSITION d ON d.client_id = c.client_id\n",
        "LEFT JOIN ACCOUNT a On a.account_id = d.account_id\n",
        "LEFT JOIN LOAN l ON l.account_id = a.account_id\n",
        "LEFT JOIN TRANS t ON t.account_id = a.account_id\n",
        "WHERE d.type = 'OWNER'\n",
        "GROUP BY c.client_id\n",
        "LIMIT 20"
      ]
    },
    {
      "cell_type": "markdown",
      "metadata": {
        "id": "QUtHNkhYSMTX"
      },
      "source": [
        "2.3) Identifique clientes con múltiples cuentas."
      ]
    },
    {
      "cell_type": "code",
      "execution_count": null,
      "metadata": {
        "colab": {
          "base_uri": "https://localhost:8080/"
        },
        "id": "n6cOiY3LSUNX",
        "outputId": "52df4ca0-412a-4b3a-aa94-32ae03dee0f7"
      },
      "outputs": [
        {
          "name": "stdout",
          "output_type": "stream",
          "text": [
            "   sqlite:///data-berka.db\n",
            " * sqlite:///data_berka.db\n",
            "(sqlite3.OperationalError) no such column: c.cliente_id\n",
            "[SQL: SELECT\n",
            "      c.cliente_id AS Cliente,\n",
            "      COUNT(a.account_id) AS Total]\n",
            "(Background on this error at: https://sqlalche.me/e/20/e3q8)\n"
          ]
        }
      ],
      "source": [
        "%%sql SELECT\n",
        "      c.cliente_id AS Cliente,\n",
        "      COUNT(a.account_id) AS Total\n"
      ]
    },
    {
      "cell_type": "markdown",
      "metadata": {
        "id": "KRCADRFqTw2_"
      },
      "source": [
        "2.4) Recupere transacciones del año 1998, ordenadas por cantidad de transacción, e identifique las 10 transacciones más grandes"
      ]
    },
    {
      "cell_type": "code",
      "execution_count": null,
      "metadata": {
        "colab": {
          "base_uri": "https://localhost:8080/",
          "height": 92
        },
        "id": "_h-86HTEWUSl",
        "outputId": "e5c53919-974c-4ab9-c13f-5fc65e820e5b"
      },
      "outputs": [
        {
          "output_type": "stream",
          "name": "stdout",
          "text": [
            "   sqlite:///data-berka.db\n",
            " * sqlite:///data_berka.db\n",
            "Done.\n"
          ]
        },
        {
          "output_type": "execute_result",
          "data": {
            "text/plain": [
              "[]"
            ],
            "text/html": [
              "<table>\n",
              "    <thead>\n",
              "        <tr>\n",
              "            <th>trans_id</th>\n",
              "            <th>account_id</th>\n",
              "            <th>date</th>\n",
              "            <th>type</th>\n",
              "            <th>operation</th>\n",
              "            <th>amount</th>\n",
              "        </tr>\n",
              "    </thead>\n",
              "    <tbody>\n",
              "    </tbody>\n",
              "</table>"
            ]
          },
          "metadata": {},
          "execution_count": 72
        }
      ],
      "source": [
        "%%sql SELECT trans_id, account_id, date, type, operation, amount\n",
        "FROM TRANS\n",
        "WHERE strftime('%Y', date) = '1998'\n",
        "ORDER BY amount DESC\n",
        "LIMIT 10;"
      ]
    },
    {
      "cell_type": "markdown",
      "source": [
        "¿Cuál es el saldo promedio de cuentas con préstamos en comparación con aquellas sin préstamos?"
      ],
      "metadata": {
        "id": "nmI_bGgpcRtx"
      }
    },
    {
      "cell_type": "code",
      "source": [],
      "metadata": {
        "colab": {
          "base_uri": "https://localhost:8080/",
          "height": 106
        },
        "id": "yukJCaXUcdEv",
        "outputId": "d5eea759-375b-4b14-ad34-44310f559fda"
      },
      "execution_count": null,
      "outputs": [
        {
          "output_type": "error",
          "ename": "SyntaxError",
          "evalue": "invalid syntax (ipython-input-71-270570092.py, line 1)",
          "traceback": [
            "\u001b[0;36m  File \u001b[0;32m\"/tmp/ipython-input-71-270570092.py\"\u001b[0;36m, line \u001b[0;32m1\u001b[0m\n\u001b[0;31m    WITH AccountBalances AS (\u001b[0m\n\u001b[0m         ^\u001b[0m\n\u001b[0;31mSyntaxError\u001b[0m\u001b[0;31m:\u001b[0m invalid syntax\n"
          ]
        }
      ]
    },
    {
      "cell_type": "code",
      "execution_count": null,
      "metadata": {
        "colab": {
          "background_save": true
        },
        "id": "DWuy2ARUZfTL"
      },
      "outputs": [],
      "source": [
        "# prompt: ¿Cuál es el saldo promedio de cuentas con préstamos en comparación con aquellas sin préstamos?\n",
        "\n",
        "WITH AccountBalances AS (\n",
        "    SELECT\n",
        "        account_id,\n",
        "        SUM(CASE\n",
        "            WHEN type = 'PRIJEM' THEN amount\n",
        "            WHEN type = 'VYDAJ' THEN -amount\n",
        "            ELSE 0\n",
        "        END) AS account_balance\n",
        "    FROM TRANS\n",
        "    GROUP BY account_id\n",
        "),\n",
        "AccountsWithLoans AS (\n",
        "    SELECT DISTINCT account_id\n",
        "    FROM LOAN\n",
        ")\n",
        "SELECT\n",
        "    'Con Préstamos' AS TipoCuenta,\n",
        "    AVG(ab.account_balance) AS SaldoPromedio\n",
        "FROM AccountBalances ab\n",
        "JOIN AccountsWithLoans awl ON ab.account_id = awl.account_id\n",
        "\n",
        "UNION ALL\n",
        "\n",
        "SELECT\n",
        "    'Sin Préstamos' AS TipoCuenta,\n",
        "    AVG(ab.account_balance) AS SaldoPromedio\n",
        "FROM AccountBalances ab\n",
        "LEFT JOIN AccountsWithLoans awl ON ab.account_id = awl.account_id\n",
        "WHERE awl.account_id IS NULL;\n"
      ]
    }
  ],
  "metadata": {
    "colab": {
      "toc_visible": true,
      "provenance": [],
      "authorship_tag": "ABX9TyMHDYEpR4/tUPmuOggCFEoX",
      "include_colab_link": true
    },
    "kernelspec": {
      "display_name": "Python 3",
      "name": "python3"
    },
    "language_info": {
      "name": "python"
    }
  },
  "nbformat": 4,
  "nbformat_minor": 0
}